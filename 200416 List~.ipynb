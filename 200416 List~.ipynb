{
 "cells": [
  {
   "cell_type": "markdown",
   "metadata": {},
   "source": [
    "# String"
   ]
  },
  {
   "cell_type": "code",
   "execution_count": 1,
   "metadata": {},
   "outputs": [
    {
     "name": "stdout",
     "output_type": "stream",
     "text": [
      "JHOPE\n"
     ]
    }
   ],
   "source": [
    " \n",
    "bts = ['V', 'RM', 'JIN', 'JK', 'JIMIN', 'SUGA', 'JHOPE']\n",
    "print(bts[6])"
   ]
  },
  {
   "cell_type": "code",
   "execution_count": 2,
   "metadata": {},
   "outputs": [
    {
     "name": "stdout",
     "output_type": "stream",
     "text": [
      "Rm\n"
     ]
    }
   ],
   "source": [
    "print(bts[1].title())"
   ]
  },
  {
   "cell_type": "markdown",
   "metadata": {},
   "source": [
    "### title() 맨앞글자만 대문자로 하고 나머지는 소문자화시킴. "
   ]
  },
  {
   "cell_type": "markdown",
   "metadata": {},
   "source": [
    "#### f-strings"
   ]
  },
  {
   "cell_type": "code",
   "execution_count": 3,
   "metadata": {},
   "outputs": [
    {
     "name": "stdout",
     "output_type": "stream",
     "text": [
      "My favorite bts member is V.\n"
     ]
    }
   ],
   "source": [
    "message  = f\"My favorite bts member is {bts[0]}.\"\n",
    "print(message)"
   ]
  },
  {
   "cell_type": "markdown",
   "metadata": {},
   "source": [
    "### Change data"
   ]
  },
  {
   "cell_type": "code",
   "execution_count": 5,
   "metadata": {},
   "outputs": [
    {
     "name": "stdout",
     "output_type": "stream",
     "text": [
      "['V', 'YS', 'JIN', 'JK', 'JIMIN', 'SUGA', 'JHOPE']\n"
     ]
    }
   ],
   "source": [
    "bts[1] = 'YS'\n",
    "print(bts)"
   ]
  },
  {
   "cell_type": "markdown",
   "metadata": {},
   "source": [
    "### Add data to the end of the list : .append()"
   ]
  },
  {
   "cell_type": "code",
   "execution_count": 6,
   "metadata": {},
   "outputs": [
    {
     "name": "stdout",
     "output_type": "stream",
     "text": [
      "['V', 'YS', 'JIN', 'JK', 'JIMIN', 'SUGA', 'JHOPE', 'RM']\n"
     ]
    }
   ],
   "source": [
    "bts.append('RM')\n",
    "print(bts)"
   ]
  },
  {
   "cell_type": "markdown",
   "metadata": {},
   "source": [
    "## append 함수를 이용한 리스트 작성은 매우 일반적임, 데이터가 얼마나 있을지 모르므로 "
   ]
  },
  {
   "cell_type": "code",
   "execution_count": 8,
   "metadata": {},
   "outputs": [
    {
     "name": "stdout",
     "output_type": "stream",
     "text": [
      "['RM', 'V', 'YS']\n"
     ]
    }
   ],
   "source": [
    "YTS = []\n",
    "\n",
    "YTS.append('RM')\n",
    "YTS.append('V')\n",
    "YTS.append('YS')\n",
    "\n",
    "print(YTS)"
   ]
  },
  {
   "cell_type": "markdown",
   "metadata": {},
   "source": [
    "## 특정한 순서에 요소 넣기 : Insert 함수 "
   ]
  },
  {
   "cell_type": "code",
   "execution_count": 9,
   "metadata": {},
   "outputs": [],
   "source": [
    "YTS = ['RM', 'V', 'YS']"
   ]
  },
  {
   "cell_type": "code",
   "execution_count": 10,
   "metadata": {},
   "outputs": [
    {
     "name": "stdout",
     "output_type": "stream",
     "text": [
      "['SUGA', 'RM', 'V', 'YS']\n"
     ]
    }
   ],
   "source": [
    "YTS.insert(0, 'SUGA')\n",
    "print(YTS)"
   ]
  },
  {
   "cell_type": "code",
   "execution_count": 11,
   "metadata": {},
   "outputs": [
    {
     "name": "stdout",
     "output_type": "stream",
     "text": [
      "['SUGA', 'JHOPE', 'RM', 'V', 'YS']\n"
     ]
    }
   ],
   "source": [
    "YTS.insert(1, 'JHOPE')\n",
    "print(YTS)"
   ]
  },
  {
   "cell_type": "markdown",
   "metadata": {},
   "source": [
    "## 특정한 요소 제거하기 (1) : del 정의 "
   ]
  },
  {
   "cell_type": "code",
   "execution_count": 12,
   "metadata": {},
   "outputs": [
    {
     "name": "stdout",
     "output_type": "stream",
     "text": [
      "['SUGA', 'JHOPE', 'RM', 'V', 'YS']\n",
      "['SUGA', 'JHOPE', 'RM', 'V']\n"
     ]
    }
   ],
   "source": [
    "YTS = ['SUGA', 'JHOPE', 'RM', 'V', 'YS']\n",
    "print(YTS)\n",
    "\n",
    "del YTS[4]\n",
    "print(YTS)"
   ]
  },
  {
   "cell_type": "markdown",
   "metadata": {},
   "source": [
    "## 특정한 요소 제거하기 (2) : pop 함수 - 시간순서대로인 리스트의 경우 최근 데이터 뽑기"
   ]
  },
  {
   "cell_type": "code",
   "execution_count": 13,
   "metadata": {
    "scrolled": true
   },
   "outputs": [
    {
     "name": "stdout",
     "output_type": "stream",
     "text": [
      "['SUGA', 'JHOPE', 'RM', 'V', 'YS']\n",
      "['SUGA', 'JHOPE', 'RM', 'V']\n",
      "YS\n"
     ]
    }
   ],
   "source": [
    "YTS = ['SUGA', 'JHOPE', 'RM', 'V', 'YS']\n",
    "print(YTS)\n",
    "\n",
    "popped_YTS = YTS.pop()\n",
    "print(YTS)\n",
    "print(popped_YTS)"
   ]
  },
  {
   "cell_type": "markdown",
   "metadata": {},
   "source": [
    "## 특정한 요소 제거하기 (3) :pop함수 응용 - 특정한 순서의 데이터 뽑기 "
   ]
  },
  {
   "cell_type": "code",
   "execution_count": 15,
   "metadata": {},
   "outputs": [
    {
     "name": "stdout",
     "output_type": "stream",
     "text": [
      "The first YTS I owned was a YS.\n"
     ]
    }
   ],
   "source": [
    "YTS = ['SUGA', 'JHOPE', 'RM', 'V', 'YS']\n",
    "\n",
    "first_owned = YTS.pop(4)\n",
    "print(f\"The first YTS I owned was a {first_owned}.\")\n"
   ]
  },
  {
   "cell_type": "markdown",
   "metadata": {},
   "source": [
    "## 특정한 요소 제거하기 (4) : Value로 값 제거하기 -remove 함수"
   ]
  },
  {
   "cell_type": "code",
   "execution_count": 16,
   "metadata": {},
   "outputs": [
    {
     "name": "stdout",
     "output_type": "stream",
     "text": [
      "['SUGA', 'JHOPE', 'RM', 'V', 'YS']\n",
      "['SUGA', 'JHOPE', 'RM', 'V']\n"
     ]
    }
   ],
   "source": [
    "YTS = ['SUGA', 'JHOPE', 'RM', 'V', 'YS']\n",
    "print(YTS)\n",
    "\n",
    "YTS.remove('YS')\n",
    "print(YTS)"
   ]
  },
  {
   "cell_type": "code",
   "execution_count": 20,
   "metadata": {},
   "outputs": [
    {
     "name": "stdout",
     "output_type": "stream",
     "text": [
      "['SUGA', 'JHOPE', 'RM', 'V', 'YS']\n",
      "['SUGA', 'JHOPE', 'RM', 'V']\n"
     ]
    }
   ],
   "source": [
    "YTS = ['SUGA', 'JHOPE', 'RM', 'V', 'YS']\n",
    "print(YTS)\n",
    "\n",
    "not_qualified = 'YS'\n",
    "YTS.remove(not_qualified)\n",
    "print(YTS)\n"
   ]
  },
  {
   "cell_type": "code",
   "execution_count": 38,
   "metadata": {},
   "outputs": [
    {
     "name": "stdout",
     "output_type": "stream",
     "text": [
      "['RM', 'V', 'SUGA', 'JIMIN']\n",
      "I would like to invited to my designated party tonight to V.\n",
      "I would like to invite the sexiest brain RM to my party tonight \n",
      "['YS', 'SUGA', 'JIMIN']\n",
      "Hello YS.\n"
     ]
    }
   ],
   "source": [
    "Dinner = ['RM', 'V', 'SUGA', 'JIMIN']\n",
    "print(Dinner)\n",
    "\n",
    "first_invited = Dinner.pop(1)\n",
    "second_invited = Dinner.pop(0)\n",
    "\n",
    "print(f\"I would like to invited to my designated party tonight to {first_invited}.\")\n",
    "print(f\"I would like to invite the sexiest brain {second_invited} to my party tonight \")\n",
    "\n",
    "Dinner.insert(0, 'YS')\n",
    "print(Dinner)\n",
    "first = Dinner.pop(0)\n",
    "print(f\"Hello {first}.\")"
   ]
  },
  {
   "cell_type": "code",
   "execution_count": null,
   "metadata": {},
   "outputs": [],
   "source": []
  }
 ],
 "metadata": {
  "kernelspec": {
   "display_name": "Python 3",
   "language": "python",
   "name": "python3"
  },
  "language_info": {
   "codemirror_mode": {
    "name": "ipython",
    "version": 3
   },
   "file_extension": ".py",
   "mimetype": "text/x-python",
   "name": "python",
   "nbconvert_exporter": "python",
   "pygments_lexer": "ipython3",
   "version": "3.7.6"
  }
 },
 "nbformat": 4,
 "nbformat_minor": 4
}
